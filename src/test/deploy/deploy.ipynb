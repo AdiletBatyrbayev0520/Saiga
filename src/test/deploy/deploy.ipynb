{
 "cells": [
  {
   "cell_type": "code",
   "execution_count": 3,
   "id": "ef1f5f84",
   "metadata": {},
   "outputs": [
    {
     "name": "stdout",
     "output_type": "stream",
     "text": [
      "c:\\Users\\sduai\\Desktop\\Batyrbayev_Adilet\\qCloudy\\Projects\\PoC\\Saiga\\Saiga-cv\\src\\test\\deploy\\model\n"
     ]
    }
   ],
   "source": [
    "%cd model/"
   ]
  },
  {
   "cell_type": "code",
   "execution_count": 6,
   "id": "8b13db77",
   "metadata": {},
   "outputs": [],
   "source": [
    "!python -m tarfile -c model.tar.gz "
   ]
  },
  {
   "cell_type": "code",
   "execution_count": 2,
   "id": "df4b952a",
   "metadata": {},
   "outputs": [
    {
     "name": "stderr",
     "output_type": "stream",
     "text": [
      "Couldn't call 'get_role' to get Role ARN from role name qcloudy-adilet to get Role path.\n"
     ]
    },
    {
     "ename": "ValueError",
     "evalue": "The current AWS identity is not a role: arn:aws:iam::112557133449:user/qcloudy-adilet, therefore it cannot be used as a SageMaker execution role",
     "output_type": "error",
     "traceback": [
      "\u001b[31m---------------------------------------------------------------------------\u001b[39m",
      "\u001b[31mValueError\u001b[39m                                Traceback (most recent call last)",
      "\u001b[36mCell\u001b[39m\u001b[36m \u001b[39m\u001b[32mIn[2]\u001b[39m\u001b[32m, line 7\u001b[39m\n\u001b[32m      5\u001b[39m session = boto3.Session(profile_name=\u001b[33m'\u001b[39m\u001b[33msaiga\u001b[39m\u001b[33m'\u001b[39m, region_name=\u001b[33m'\u001b[39m\u001b[33meu-north-1\u001b[39m\u001b[33m'\u001b[39m)\n\u001b[32m      6\u001b[39m sagemaker_session = sagemaker.Session(boto_session=session)\n\u001b[32m----> \u001b[39m\u001b[32m7\u001b[39m role = \u001b[43mget_execution_role\u001b[49m\u001b[43m(\u001b[49m\u001b[43msagemaker_session\u001b[49m\u001b[43m)\u001b[49m\n\u001b[32m      8\u001b[39m sagemaker_client = session.client(\u001b[33m'\u001b[39m\u001b[33msagemaker\u001b[39m\u001b[33m'\u001b[39m)\n\u001b[32m     10\u001b[39m \u001b[38;5;28mprint\u001b[39m(\u001b[33mf\u001b[39m\u001b[33m\"\u001b[39m\u001b[33mRole ARN: \u001b[39m\u001b[38;5;132;01m{\u001b[39;00mrole\u001b[38;5;132;01m}\u001b[39;00m\u001b[33m\"\u001b[39m)\n",
      "\u001b[36mFile \u001b[39m\u001b[32mc:\\Users\\sduai\\Desktop\\Batyrbayev_Adilet\\qCloudy\\Projects\\PoC\\Saiga\\.venv\\Lib\\site-packages\\sagemaker\\session.py:4410\u001b[39m, in \u001b[36mget_execution_role\u001b[39m\u001b[34m(sagemaker_session)\u001b[39m\n\u001b[32m   4405\u001b[39m     \u001b[38;5;28;01mreturn\u001b[39;00m arn\n\u001b[32m   4406\u001b[39m message = (\n\u001b[32m   4407\u001b[39m     \u001b[33m\"\u001b[39m\u001b[33mThe current AWS identity is not a role: \u001b[39m\u001b[38;5;132;01m{}\u001b[39;00m\u001b[33m, therefore it cannot be used as a \u001b[39m\u001b[33m\"\u001b[39m\n\u001b[32m   4408\u001b[39m     \u001b[33m\"\u001b[39m\u001b[33mSageMaker execution role\u001b[39m\u001b[33m\"\u001b[39m\n\u001b[32m   4409\u001b[39m )\n\u001b[32m-> \u001b[39m\u001b[32m4410\u001b[39m \u001b[38;5;28;01mraise\u001b[39;00m \u001b[38;5;167;01mValueError\u001b[39;00m(message.format(arn))\n",
      "\u001b[31mValueError\u001b[39m: The current AWS identity is not a role: arn:aws:iam::112557133449:user/qcloudy-adilet, therefore it cannot be used as a SageMaker execution role"
     ]
    }
   ],
   "source": [
    "import boto3\n",
    "import sagemaker\n",
    "from sagemaker import get_execution_role\n",
    "\n",
    "session = boto3.Session(profile_name='saiga', region_name='eu-north-1')\n",
    "sagemaker_session = sagemaker.Session(boto_session=session)\n",
    "role = get_execution_role(sagemaker_session)\n",
    "sagemaker_client = session.client('sagemaker')\n",
    "\n",
    "print(f\"Role ARN: {role}\")\n",
    "print(\"SageMaker session initialized successfully!\")\n"
   ]
  },
  {
   "cell_type": "code",
   "execution_count": 1,
   "id": "ca1d3000",
   "metadata": {},
   "outputs": [
    {
     "name": "stderr",
     "output_type": "stream",
     "text": [
      "\u001b[2mResolved \u001b[1m107 packages\u001b[0m \u001b[2min 1ms\u001b[0m\u001b[0m\n",
      "\u001b[2mAudited \u001b[1m85 packages\u001b[0m \u001b[2min 4ms\u001b[0m\u001b[0m\n"
     ]
    }
   ],
   "source": [
    "!uv add boto3 sagemaker"
   ]
  },
  {
   "cell_type": "code",
   "execution_count": null,
   "id": "2112d7d7",
   "metadata": {},
   "outputs": [
    {
     "name": "stderr",
     "output_type": "stream",
     "text": [
      "\u001b[2mResolved \u001b[1m107 packages\u001b[0m \u001b[2min 1ms\u001b[0m\u001b[0m\n",
      "\u001b[2mAudited \u001b[1m85 packages\u001b[0m \u001b[2min 6ms\u001b[0m\u001b[0m\n"
     ]
    }
   ],
   "source": [
    "!uv sync"
   ]
  },
  {
   "cell_type": "code",
   "execution_count": 8,
   "id": "f27e8113",
   "metadata": {},
   "outputs": [
    {
     "name": "stdout",
     "output_type": "stream",
     "text": [
      "Model uploaded to: s3://saiga-prod-model-weights/yolo/model.tar.gz\n"
     ]
    }
   ],
   "source": [
    "import boto3\n",
    "\n",
    "session = boto3.Session(profile_name='saiga')\n",
    "\n",
    "s3_client = session.client('s3')\n",
    "bucket_name = 'saiga-prod-model-weights'\n",
    "model_artifacts = 'model/model.tar.gz'\n",
    "s3_key = 'yolo/model.tar.gz'\n",
    "\n",
    "s3_client.upload_file(model_artifacts, bucket_name, s3_key)\n",
    "model_data = f's3://{bucket_name}/{s3_key}'\n",
    "print(f\"Model uploaded to: {model_data}\")"
   ]
  },
  {
   "cell_type": "code",
   "execution_count": 11,
   "id": "d6af47b7",
   "metadata": {},
   "outputs": [
    {
     "ename": "SyntaxError",
     "evalue": "invalid decimal literal (2815040013.py, line 1)",
     "output_type": "error",
     "traceback": [
      "  \u001b[36mCell\u001b[39m\u001b[36m \u001b[39m\u001b[32mIn[11]\u001b[39m\u001b[32m, line 1\u001b[39m\n\u001b[31m    \u001b[39m\u001b[31maws ecr get-login-password --region eu-north-1 --profile saiga | docker login --username AWS --password-stdin 112557133449.dkr.ecr.eu-north-1.amazonaws.com\u001b[39m\n                                                                                                                              ^\n\u001b[31mSyntaxError\u001b[39m\u001b[31m:\u001b[39m invalid decimal literal\n"
     ]
    }
   ],
   "source": [
    "aws ecr get-login-password --region eu-north-1 --profile saiga | docker login --username AWS --password-stdin 112557133449.dkr.ecr.eu-north-1.amazonaws.com"
   ]
  },
  {
   "cell_type": "code",
   "execution_count": null,
   "id": "520aa8f3",
   "metadata": {},
   "outputs": [],
   "source": [
    "aws ecr create-repository --repository-name saiga-yolo-model --profile saiga"
   ]
  },
  {
   "cell_type": "code",
   "execution_count": null,
   "id": "3efe8afb",
   "metadata": {},
   "outputs": [],
   "source": [
    "docker build -t saiga-yolo-model ."
   ]
  },
  {
   "cell_type": "code",
   "execution_count": null,
   "id": "ea6359b3",
   "metadata": {},
   "outputs": [],
   "source": [
    "docker tag saiga-yolo-model:latest 112557133449.dkr.ecr.eu-north-1.amazonaws.com/saiga-yolo-model:latest\n",
    "docker push 112557133449.dkr.ecr.eu-north-1.amazonaws.com/saiga-yolo-model:latest"
   ]
  },
  {
   "cell_type": "code",
   "execution_count": 12,
   "id": "0ae43aa9",
   "metadata": {},
   "outputs": [
    {
     "ename": "ClientError",
     "evalue": "An error occurred (ValidationException) when calling the CreateModel operation: Unsupported manifest media type application/vnd.oci.image.index.v1+json for image 112557133449.dkr.ecr.eu-north-1.amazonaws.com/saiga-yolo-model:latest. Ensure that valid manifest media type is used for specified image.",
     "output_type": "error",
     "traceback": [
      "\u001b[31m---------------------------------------------------------------------------\u001b[39m",
      "\u001b[31mClientError\u001b[39m                               Traceback (most recent call last)",
      "\u001b[36mCell\u001b[39m\u001b[36m \u001b[39m\u001b[32mIn[12]\u001b[39m\u001b[32m, line 30\u001b[39m\n\u001b[32m     23\u001b[39m \u001b[38;5;66;03m# Or use PyTorch container\u001b[39;00m\n\u001b[32m     24\u001b[39m \u001b[38;5;66;03m# from sagemaker.pytorch import PyTorchModel\u001b[39;00m\n\u001b[32m     25\u001b[39m \u001b[38;5;66;03m# pytorch_version = '2.0'\u001b[39;00m\n\u001b[32m     26\u001b[39m \u001b[38;5;66;03m# container_image = sagemaker.image_uris.retrieve('pytorch', region, pytorch_version)\u001b[39;00m\n\u001b[32m     28\u001b[39m model_name = \u001b[33m'\u001b[39m\u001b[33myolo-custom-model\u001b[39m\u001b[33m'\u001b[39m\n\u001b[32m---> \u001b[39m\u001b[32m30\u001b[39m create_model_response = \u001b[43msagemaker_client\u001b[49m\u001b[43m.\u001b[49m\u001b[43mcreate_model\u001b[49m\u001b[43m(\u001b[49m\n\u001b[32m     31\u001b[39m \u001b[43m    \u001b[49m\u001b[43mModelName\u001b[49m\u001b[43m=\u001b[49m\u001b[43mmodel_name\u001b[49m\u001b[43m,\u001b[49m\n\u001b[32m     32\u001b[39m \u001b[43m    \u001b[49m\u001b[43mPrimaryContainer\u001b[49m\u001b[43m=\u001b[49m\u001b[43m{\u001b[49m\n\u001b[32m     33\u001b[39m \u001b[43m        \u001b[49m\u001b[33;43m'\u001b[39;49m\u001b[33;43mImage\u001b[39;49m\u001b[33;43m'\u001b[39;49m\u001b[43m:\u001b[49m\u001b[43m \u001b[49m\u001b[43mcontainer_image\u001b[49m\u001b[43m,\u001b[49m\n\u001b[32m     34\u001b[39m \u001b[43m        \u001b[49m\u001b[33;43m'\u001b[39;49m\u001b[33;43mModelDataUrl\u001b[39;49m\u001b[33;43m'\u001b[39;49m\u001b[43m:\u001b[49m\u001b[43m \u001b[49m\u001b[43mmodel_data\u001b[49m\u001b[43m,\u001b[49m\n\u001b[32m     35\u001b[39m \u001b[43m        \u001b[49m\u001b[33;43m'\u001b[39;49m\u001b[33;43mEnvironment\u001b[39;49m\u001b[33;43m'\u001b[39;49m\u001b[43m:\u001b[49m\u001b[43m \u001b[49m\u001b[43m{\u001b[49m\n\u001b[32m     36\u001b[39m \u001b[43m            \u001b[49m\u001b[33;43m'\u001b[39;49m\u001b[33;43mSAGEMAKER_PROGRAM\u001b[39;49m\u001b[33;43m'\u001b[39;49m\u001b[43m:\u001b[49m\u001b[43m \u001b[49m\u001b[33;43m'\u001b[39;49m\u001b[33;43minference.py\u001b[39;49m\u001b[33;43m'\u001b[39;49m\u001b[43m,\u001b[49m\n\u001b[32m     37\u001b[39m \u001b[43m            \u001b[49m\u001b[33;43m'\u001b[39;49m\u001b[33;43mSAGEMAKER_SUBMIT_DIRECTORY\u001b[39;49m\u001b[33;43m'\u001b[39;49m\u001b[43m:\u001b[49m\u001b[43m \u001b[49m\u001b[43mmodel_data\u001b[49m\n\u001b[32m     38\u001b[39m \u001b[43m        \u001b[49m\u001b[43m}\u001b[49m\n\u001b[32m     39\u001b[39m \u001b[43m    \u001b[49m\u001b[43m}\u001b[49m\u001b[43m,\u001b[49m\n\u001b[32m     40\u001b[39m \u001b[43m    \u001b[49m\u001b[43mExecutionRoleArn\u001b[49m\u001b[43m=\u001b[49m\u001b[33;43m\"\u001b[39;49m\u001b[33;43marn:aws:iam::112557133449:role/saiga-prod-sagemaker-exec-role\u001b[39;49m\u001b[33;43m\"\u001b[39;49m\n\u001b[32m     41\u001b[39m \u001b[43m)\u001b[49m\n\u001b[32m     43\u001b[39m \u001b[38;5;28mprint\u001b[39m(\u001b[33mf\u001b[39m\u001b[33m\"\u001b[39m\u001b[33mModel created: \u001b[39m\u001b[38;5;132;01m{\u001b[39;00mcreate_model_response[\u001b[33m'\u001b[39m\u001b[33mModelArn\u001b[39m\u001b[33m'\u001b[39m]\u001b[38;5;132;01m}\u001b[39;00m\u001b[33m\"\u001b[39m)\n",
      "\u001b[36mFile \u001b[39m\u001b[32mc:\\Users\\sduai\\Desktop\\Batyrbayev_Adilet\\qCloudy\\Projects\\PoC\\Saiga\\.venv\\Lib\\site-packages\\botocore\\client.py:602\u001b[39m, in \u001b[36mClientCreator._create_api_method.<locals>._api_call\u001b[39m\u001b[34m(self, *args, **kwargs)\u001b[39m\n\u001b[32m    598\u001b[39m     \u001b[38;5;28;01mraise\u001b[39;00m \u001b[38;5;167;01mTypeError\u001b[39;00m(\n\u001b[32m    599\u001b[39m         \u001b[33mf\u001b[39m\u001b[33m\"\u001b[39m\u001b[38;5;132;01m{\u001b[39;00mpy_operation_name\u001b[38;5;132;01m}\u001b[39;00m\u001b[33m() only accepts keyword arguments.\u001b[39m\u001b[33m\"\u001b[39m\n\u001b[32m    600\u001b[39m     )\n\u001b[32m    601\u001b[39m \u001b[38;5;66;03m# The \"self\" in this scope is referring to the BaseClient.\u001b[39;00m\n\u001b[32m--> \u001b[39m\u001b[32m602\u001b[39m \u001b[38;5;28;01mreturn\u001b[39;00m \u001b[38;5;28;43mself\u001b[39;49m\u001b[43m.\u001b[49m\u001b[43m_make_api_call\u001b[49m\u001b[43m(\u001b[49m\u001b[43moperation_name\u001b[49m\u001b[43m,\u001b[49m\u001b[43m \u001b[49m\u001b[43mkwargs\u001b[49m\u001b[43m)\u001b[49m\n",
      "\u001b[36mFile \u001b[39m\u001b[32mc:\\Users\\sduai\\Desktop\\Batyrbayev_Adilet\\qCloudy\\Projects\\PoC\\Saiga\\.venv\\Lib\\site-packages\\botocore\\context.py:123\u001b[39m, in \u001b[36mwith_current_context.<locals>.decorator.<locals>.wrapper\u001b[39m\u001b[34m(*args, **kwargs)\u001b[39m\n\u001b[32m    121\u001b[39m \u001b[38;5;28;01mif\u001b[39;00m hook:\n\u001b[32m    122\u001b[39m     hook()\n\u001b[32m--> \u001b[39m\u001b[32m123\u001b[39m \u001b[38;5;28;01mreturn\u001b[39;00m \u001b[43mfunc\u001b[49m\u001b[43m(\u001b[49m\u001b[43m*\u001b[49m\u001b[43margs\u001b[49m\u001b[43m,\u001b[49m\u001b[43m \u001b[49m\u001b[43m*\u001b[49m\u001b[43m*\u001b[49m\u001b[43mkwargs\u001b[49m\u001b[43m)\u001b[49m\n",
      "\u001b[36mFile \u001b[39m\u001b[32mc:\\Users\\sduai\\Desktop\\Batyrbayev_Adilet\\qCloudy\\Projects\\PoC\\Saiga\\.venv\\Lib\\site-packages\\botocore\\client.py:1078\u001b[39m, in \u001b[36mBaseClient._make_api_call\u001b[39m\u001b[34m(self, operation_name, api_params)\u001b[39m\n\u001b[32m   1074\u001b[39m     error_code = request_context.get(\n\u001b[32m   1075\u001b[39m         \u001b[33m'\u001b[39m\u001b[33merror_code_override\u001b[39m\u001b[33m'\u001b[39m\n\u001b[32m   1076\u001b[39m     ) \u001b[38;5;129;01mor\u001b[39;00m error_info.get(\u001b[33m\"\u001b[39m\u001b[33mCode\u001b[39m\u001b[33m\"\u001b[39m)\n\u001b[32m   1077\u001b[39m     error_class = \u001b[38;5;28mself\u001b[39m.exceptions.from_code(error_code)\n\u001b[32m-> \u001b[39m\u001b[32m1078\u001b[39m     \u001b[38;5;28;01mraise\u001b[39;00m error_class(parsed_response, operation_name)\n\u001b[32m   1079\u001b[39m \u001b[38;5;28;01melse\u001b[39;00m:\n\u001b[32m   1080\u001b[39m     \u001b[38;5;28;01mreturn\u001b[39;00m parsed_response\n",
      "\u001b[31mClientError\u001b[39m: An error occurred (ValidationException) when calling the CreateModel operation: Unsupported manifest media type application/vnd.oci.image.index.v1+json for image 112557133449.dkr.ecr.eu-north-1.amazonaws.com/saiga-yolo-model:latest. Ensure that valid manifest media type is used for specified image."
     ]
    }
   ],
   "source": [
    "import boto3\n",
    "import sagemaker\n",
    "from sagemaker import get_execution_role\n",
    "session = boto3.Session(profile_name='saiga', region_name='eu-north-1')\n",
    "\n",
    "sts = session.client('sts')\n",
    "assumed = sts.assume_role(\n",
    "    RoleArn='arn:aws:iam::112557133449:role/saiga-prod-sagemaker-exec-role',\n",
    "    RoleSessionName='sagemaker-session'\n",
    ")\n",
    "creds = assumed['Credentials']\n",
    "\n",
    "sagemaker_client = boto3.client(\n",
    "    'sagemaker',\n",
    "    aws_access_key_id=creds['AccessKeyId'],\n",
    "    aws_secret_access_key=creds['SecretAccessKey'],\n",
    "    aws_session_token=creds['SessionToken'],\n",
    "    region_name='eu-north-1'\n",
    ")\n",
    "\n",
    "container_image = '112557133449.dkr.ecr.eu-north-1.amazonaws.com/saiga-yolo-model:latest'\n",
    "\n",
    "# Or use PyTorch container\n",
    "# from sagemaker.pytorch import PyTorchModel\n",
    "# pytorch_version = '2.0'\n",
    "# container_image = sagemaker.image_uris.retrieve('pytorch', region, pytorch_version)\n",
    "\n",
    "model_name = 'yolo-custom-model'\n",
    "\n",
    "create_model_response = sagemaker_client.create_model(\n",
    "    ModelName=model_name,\n",
    "    PrimaryContainer={\n",
    "        'Image': container_image,\n",
    "        'ModelDataUrl': model_data,\n",
    "        'Environment': {\n",
    "            'SAGEMAKER_PROGRAM': 'inference.py',\n",
    "            'SAGEMAKER_SUBMIT_DIRECTORY': model_data\n",
    "        }\n",
    "    },\n",
    "    ExecutionRoleArn=\"arn:aws:iam::112557133449:role/saiga-prod-sagemaker-exec-role\"\n",
    ")\n",
    "\n",
    "print(f\"Model created: {create_model_response['ModelArn']}\")"
   ]
  },
  {
   "cell_type": "code",
   "execution_count": null,
   "id": "94d79979",
   "metadata": {},
   "outputs": [],
   "source": []
  }
 ],
 "metadata": {
  "kernelspec": {
   "display_name": ".venv",
   "language": "python",
   "name": "python3"
  },
  "language_info": {
   "codemirror_mode": {
    "name": "ipython",
    "version": 3
   },
   "file_extension": ".py",
   "mimetype": "text/x-python",
   "name": "python",
   "nbconvert_exporter": "python",
   "pygments_lexer": "ipython3",
   "version": "3.12.11"
  }
 },
 "nbformat": 4,
 "nbformat_minor": 5
}

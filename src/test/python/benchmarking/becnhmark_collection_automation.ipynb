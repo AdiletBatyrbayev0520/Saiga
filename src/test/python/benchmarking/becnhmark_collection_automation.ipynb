{
 "cells": [
  {
   "cell_type": "code",
   "execution_count": null,
   "id": "6636fa5d",
   "metadata": {},
   "outputs": [
    {
     "data": {
      "text/html": [
       "<div>\n",
       "<style scoped>\n",
       "    .dataframe tbody tr th:only-of-type {\n",
       "        vertical-align: middle;\n",
       "    }\n",
       "\n",
       "    .dataframe tbody tr th {\n",
       "        vertical-align: top;\n",
       "    }\n",
       "\n",
       "    .dataframe thead th {\n",
       "        text-align: right;\n",
       "    }\n",
       "</style>\n",
       "<table border=\"1\" class=\"dataframe\">\n",
       "  <thead>\n",
       "    <tr style=\"text-align: right;\">\n",
       "      <th></th>\n",
       "      <th>image_name</th>\n",
       "      <th>number_of_saigas</th>\n",
       "    </tr>\n",
       "  </thead>\n",
       "  <tbody>\n",
       "    <tr>\n",
       "      <th>0</th>\n",
       "      <td>2025_08_05_PhotoRieboR4_g201b201078_f003_090</td>\n",
       "      <td>70</td>\n",
       "    </tr>\n",
       "    <tr>\n",
       "      <th>1</th>\n",
       "      <td>2025_08_05_PhotoRieboR4_g201b201078_f003_091</td>\n",
       "      <td>271</td>\n",
       "    </tr>\n",
       "    <tr>\n",
       "      <th>2</th>\n",
       "      <td>2025_08_05_PhotoRieboR4_g201b201078_f003_092</td>\n",
       "      <td>42</td>\n",
       "    </tr>\n",
       "    <tr>\n",
       "      <th>3</th>\n",
       "      <td>2025_08_05_PhotoRieboR4_g201b201078_f003_093</td>\n",
       "      <td>62</td>\n",
       "    </tr>\n",
       "    <tr>\n",
       "      <th>4</th>\n",
       "      <td>2025_08_05_PhotoRieboR4_g201b201078_f003_094</td>\n",
       "      <td>72</td>\n",
       "    </tr>\n",
       "    <tr>\n",
       "      <th>...</th>\n",
       "      <td>...</td>\n",
       "      <td>...</td>\n",
       "    </tr>\n",
       "    <tr>\n",
       "      <th>206</th>\n",
       "      <td>2025_08_05_PhotoRieboR4_g201b201078_f003_296</td>\n",
       "      <td>0</td>\n",
       "    </tr>\n",
       "    <tr>\n",
       "      <th>207</th>\n",
       "      <td>2025_08_05_PhotoRieboR4_g201b201078_f003_297</td>\n",
       "      <td>0</td>\n",
       "    </tr>\n",
       "    <tr>\n",
       "      <th>208</th>\n",
       "      <td>2025_08_05_PhotoRieboR4_g201b201078_f003_298</td>\n",
       "      <td>0</td>\n",
       "    </tr>\n",
       "    <tr>\n",
       "      <th>209</th>\n",
       "      <td>2025_08_05_PhotoRieboR4_g201b201078_f003_299</td>\n",
       "      <td>9</td>\n",
       "    </tr>\n",
       "    <tr>\n",
       "      <th>210</th>\n",
       "      <td>2025_08_05_PhotoRieboR4_g201b201078_f003_300</td>\n",
       "      <td>2</td>\n",
       "    </tr>\n",
       "  </tbody>\n",
       "</table>\n",
       "<p>211 rows × 2 columns</p>\n",
       "</div>"
      ],
      "text/plain": [
       "                                       image_name  number_of_saigas\n",
       "0    2025_08_05_PhotoRieboR4_g201b201078_f003_090                70\n",
       "1    2025_08_05_PhotoRieboR4_g201b201078_f003_091               271\n",
       "2    2025_08_05_PhotoRieboR4_g201b201078_f003_092                42\n",
       "3    2025_08_05_PhotoRieboR4_g201b201078_f003_093                62\n",
       "4    2025_08_05_PhotoRieboR4_g201b201078_f003_094                72\n",
       "..                                            ...               ...\n",
       "206  2025_08_05_PhotoRieboR4_g201b201078_f003_296                 0\n",
       "207  2025_08_05_PhotoRieboR4_g201b201078_f003_297                 0\n",
       "208  2025_08_05_PhotoRieboR4_g201b201078_f003_298                 0\n",
       "209  2025_08_05_PhotoRieboR4_g201b201078_f003_299                 9\n",
       "210  2025_08_05_PhotoRieboR4_g201b201078_f003_300                 2\n",
       "\n",
       "[211 rows x 2 columns]"
      ]
     },
     "execution_count": 1,
     "metadata": {},
     "output_type": "execute_result"
    }
   ],
   "source": [
    "import pandas as pd\n",
    "\n",
    "df = pd.read_csv('benchmarking.csv')\n",
    "df"
   ]
  },
  {
   "cell_type": "code",
   "execution_count": 2,
   "id": "5cc1a9e8",
   "metadata": {},
   "outputs": [
    {
     "data": {
      "text/plain": [
       "image_name          211\n",
       "number_of_saigas    211\n",
       "dtype: int64"
      ]
     },
     "execution_count": 2,
     "metadata": {},
     "output_type": "execute_result"
    }
   ],
   "source": [
    "df.count()"
   ]
  },
  {
   "cell_type": "code",
   "execution_count": 3,
   "id": "b698ac37",
   "metadata": {},
   "outputs": [],
   "source": [
    "# how to drop rows with value 0 in 'number_of_saigas' column\n",
    "df_dropped = df[df['number_of_saigas'] != 0]"
   ]
  },
  {
   "cell_type": "code",
   "execution_count": 4,
   "id": "2098b334",
   "metadata": {},
   "outputs": [
    {
     "name": "stdout",
     "output_type": "stream",
     "text": [
      "df.count() -  image_name          41\n",
      "number_of_saigas    41\n",
      "dtype: int64\n",
      "df.sum() -  1317\n"
     ]
    }
   ],
   "source": [
    "print(\"df.count() - \", df_dropped.count())\n",
    "print(\"df.sum() - \", df_dropped['number_of_saigas'].sum())"
   ]
  },
  {
   "cell_type": "code",
   "execution_count": null,
   "id": "afefffee",
   "metadata": {},
   "outputs": [],
   "source": [
    "df.to_json('benchmarking.json', orient='records')"
   ]
  }
 ],
 "metadata": {
  "kernelspec": {
   "display_name": ".venv",
   "language": "python",
   "name": "python3"
  },
  "language_info": {
   "codemirror_mode": {
    "name": "ipython",
    "version": 3
   },
   "file_extension": ".py",
   "mimetype": "text/x-python",
   "name": "python",
   "nbconvert_exporter": "python",
   "pygments_lexer": "ipython3",
   "version": "3.12.11"
  }
 },
 "nbformat": 4,
 "nbformat_minor": 5
}

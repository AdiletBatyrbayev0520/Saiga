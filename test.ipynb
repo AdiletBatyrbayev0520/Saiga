{
 "cells": [
  {
   "cell_type": "code",
   "execution_count": null,
   "id": "6b0bbefd",
   "metadata": {},
   "outputs": [],
   "source": [
    "uv run src/tools/image_slicer.py --image_path 2025_08_05_PhotoRieboR4_g201b201078_f003_259.JPG --overlap_percentage 15 --destination_folder ./slices/ --slice-size 1024"
   ]
  },
  {
   "cell_type": "code",
   "execution_count": 5,
   "id": "9dc3e60e",
   "metadata": {},
   "outputs": [],
   "source": [
    "slice_path = \"slices/2025_08_05_PhotoRieboR4_g201b201078_f003_259_slice_003_004_3484_2613.png\""
   ]
  },
  {
   "cell_type": "code",
   "execution_count": null,
   "id": "222594d0",
   "metadata": {},
   "outputs": [],
   "source": [
    "from ultralytics import YOLO\n",
    "\n",
    "model = YOLO(\"yolov8x.pt\")"
   ]
  },
  {
   "cell_type": "code",
   "execution_count": 7,
   "id": "fd00fce2",
   "metadata": {},
   "outputs": [
    {
     "name": "stdout",
     "output_type": "stream",
     "text": [
      "\n",
      "image 1/1 c:\\Users\\sduai\\Documents\\projis\\qCloudy\\Saiga\\slices\\2025_08_05_PhotoRieboR4_g201b201078_f003_259_slice_003_004_3484_2613.png: 640x640 6 birds, 387.5ms\n",
      "Speed: 3.4ms preprocess, 387.5ms inference, 1.7ms postprocess per image at shape (1, 3, 640, 640)\n",
      "6\n"
     ]
    }
   ],
   "source": [
    "# How to specify the threshold for the predictions?\n",
    "predictions = model.predict(slice_path, conf=0.1)\n",
    "print(len(predictions[0].boxes.conf))"
   ]
  },
  {
   "cell_type": "code",
   "execution_count": 8,
   "id": "fde9f63a",
   "metadata": {},
   "outputs": [
    {
     "data": {
      "text/plain": [
       "'predicted_image.png'"
      ]
     },
     "execution_count": 8,
     "metadata": {},
     "output_type": "execute_result"
    }
   ],
   "source": [
    "predictions[0].save(\"predicted_image.png\")"
   ]
  },
  {
   "cell_type": "code",
   "execution_count": 9,
   "id": "2df407f5",
   "metadata": {},
   "outputs": [],
   "source": [
    "images_folder = \"slices/\""
   ]
  },
  {
   "cell_type": "code",
   "execution_count": 10,
   "id": "e9a6b180",
   "metadata": {},
   "outputs": [
    {
     "name": "stdout",
     "output_type": "stream",
     "text": [
      "\n",
      "image 1/1 c:\\Users\\sduai\\Documents\\projis\\qCloudy\\Saiga\\slices\\2025_08_05_PhotoRieboR4_g201b201078_f003_259_slice_000_000_0_0.png: 640x640 (no detections), 385.9ms\n",
      "Speed: 2.7ms preprocess, 385.9ms inference, 0.4ms postprocess per image at shape (1, 3, 640, 640)\n",
      "\n",
      "image 1/1 c:\\Users\\sduai\\Documents\\projis\\qCloudy\\Saiga\\slices\\2025_08_05_PhotoRieboR4_g201b201078_f003_259_slice_000_001_871_0.png: 640x640 (no detections), 381.1ms\n",
      "Speed: 2.5ms preprocess, 381.1ms inference, 0.3ms postprocess per image at shape (1, 3, 640, 640)\n",
      "\n",
      "image 1/1 c:\\Users\\sduai\\Documents\\projis\\qCloudy\\Saiga\\slices\\2025_08_05_PhotoRieboR4_g201b201078_f003_259_slice_000_002_1742_0.png: 640x640 (no detections), 372.5ms\n",
      "Speed: 2.6ms preprocess, 372.5ms inference, 0.4ms postprocess per image at shape (1, 3, 640, 640)\n",
      "\n",
      "image 1/1 c:\\Users\\sduai\\Documents\\projis\\qCloudy\\Saiga\\slices\\2025_08_05_PhotoRieboR4_g201b201078_f003_259_slice_000_003_2613_0.png: 640x640 (no detections), 364.9ms\n",
      "Speed: 2.3ms preprocess, 364.9ms inference, 0.3ms postprocess per image at shape (1, 3, 640, 640)\n",
      "\n",
      "image 1/1 c:\\Users\\sduai\\Documents\\projis\\qCloudy\\Saiga\\slices\\2025_08_05_PhotoRieboR4_g201b201078_f003_259_slice_000_004_3484_0.png: 640x640 (no detections), 375.8ms\n",
      "Speed: 2.6ms preprocess, 375.8ms inference, 0.3ms postprocess per image at shape (1, 3, 640, 640)\n",
      "\n",
      "image 1/1 c:\\Users\\sduai\\Documents\\projis\\qCloudy\\Saiga\\slices\\2025_08_05_PhotoRieboR4_g201b201078_f003_259_slice_000_005_4355_0.png: 640x640 (no detections), 361.1ms\n",
      "Speed: 2.6ms preprocess, 361.1ms inference, 0.3ms postprocess per image at shape (1, 3, 640, 640)\n",
      "\n",
      "image 1/1 c:\\Users\\sduai\\Documents\\projis\\qCloudy\\Saiga\\slices\\2025_08_05_PhotoRieboR4_g201b201078_f003_259_slice_000_006_5226_0.png: 640x640 (no detections), 362.5ms\n",
      "Speed: 2.6ms preprocess, 362.5ms inference, 0.3ms postprocess per image at shape (1, 3, 640, 640)\n",
      "\n",
      "image 1/1 c:\\Users\\sduai\\Documents\\projis\\qCloudy\\Saiga\\slices\\2025_08_05_PhotoRieboR4_g201b201078_f003_259_slice_000_007_6097_0.png: 640x640 (no detections), 375.0ms\n",
      "Speed: 2.3ms preprocess, 375.0ms inference, 0.3ms postprocess per image at shape (1, 3, 640, 640)\n",
      "\n",
      "image 1/1 c:\\Users\\sduai\\Documents\\projis\\qCloudy\\Saiga\\slices\\2025_08_05_PhotoRieboR4_g201b201078_f003_259_slice_000_008_6968_0.png: 640x640 (no detections), 362.1ms\n",
      "Speed: 2.4ms preprocess, 362.1ms inference, 0.5ms postprocess per image at shape (1, 3, 640, 640)\n",
      "\n",
      "image 1/1 c:\\Users\\sduai\\Documents\\projis\\qCloudy\\Saiga\\slices\\2025_08_05_PhotoRieboR4_g201b201078_f003_259_slice_001_000_0_871.png: 640x640 (no detections), 368.7ms\n",
      "Speed: 2.3ms preprocess, 368.7ms inference, 0.5ms postprocess per image at shape (1, 3, 640, 640)\n",
      "\n",
      "image 1/1 c:\\Users\\sduai\\Documents\\projis\\qCloudy\\Saiga\\slices\\2025_08_05_PhotoRieboR4_g201b201078_f003_259_slice_001_001_871_871.png: 640x640 (no detections), 355.7ms\n",
      "Speed: 2.2ms preprocess, 355.7ms inference, 0.4ms postprocess per image at shape (1, 3, 640, 640)\n",
      "\n",
      "image 1/1 c:\\Users\\sduai\\Documents\\projis\\qCloudy\\Saiga\\slices\\2025_08_05_PhotoRieboR4_g201b201078_f003_259_slice_001_002_1742_871.png: 640x640 (no detections), 359.3ms\n",
      "Speed: 2.6ms preprocess, 359.3ms inference, 0.4ms postprocess per image at shape (1, 3, 640, 640)\n",
      "\n",
      "image 1/1 c:\\Users\\sduai\\Documents\\projis\\qCloudy\\Saiga\\slices\\2025_08_05_PhotoRieboR4_g201b201078_f003_259_slice_001_003_2613_871.png: 640x640 (no detections), 368.4ms\n",
      "Speed: 2.4ms preprocess, 368.4ms inference, 0.4ms postprocess per image at shape (1, 3, 640, 640)\n",
      "\n",
      "image 1/1 c:\\Users\\sduai\\Documents\\projis\\qCloudy\\Saiga\\slices\\2025_08_05_PhotoRieboR4_g201b201078_f003_259_slice_001_004_3484_871.png: 640x640 (no detections), 353.1ms\n",
      "Speed: 2.5ms preprocess, 353.1ms inference, 0.4ms postprocess per image at shape (1, 3, 640, 640)\n",
      "\n",
      "image 1/1 c:\\Users\\sduai\\Documents\\projis\\qCloudy\\Saiga\\slices\\2025_08_05_PhotoRieboR4_g201b201078_f003_259_slice_001_005_4355_871.png: 640x640 (no detections), 356.0ms\n",
      "Speed: 2.6ms preprocess, 356.0ms inference, 0.5ms postprocess per image at shape (1, 3, 640, 640)\n",
      "\n",
      "image 1/1 c:\\Users\\sduai\\Documents\\projis\\qCloudy\\Saiga\\slices\\2025_08_05_PhotoRieboR4_g201b201078_f003_259_slice_001_006_5226_871.png: 640x640 (no detections), 367.0ms\n",
      "Speed: 2.4ms preprocess, 367.0ms inference, 0.4ms postprocess per image at shape (1, 3, 640, 640)\n",
      "\n",
      "image 1/1 c:\\Users\\sduai\\Documents\\projis\\qCloudy\\Saiga\\slices\\2025_08_05_PhotoRieboR4_g201b201078_f003_259_slice_001_007_6097_871.png: 640x640 (no detections), 362.0ms\n",
      "Speed: 2.6ms preprocess, 362.0ms inference, 0.7ms postprocess per image at shape (1, 3, 640, 640)\n",
      "\n",
      "image 1/1 c:\\Users\\sduai\\Documents\\projis\\qCloudy\\Saiga\\slices\\2025_08_05_PhotoRieboR4_g201b201078_f003_259_slice_001_008_6968_871.png: 640x640 (no detections), 366.5ms\n",
      "Speed: 2.4ms preprocess, 366.5ms inference, 0.3ms postprocess per image at shape (1, 3, 640, 640)\n",
      "\n",
      "image 1/1 c:\\Users\\sduai\\Documents\\projis\\qCloudy\\Saiga\\slices\\2025_08_05_PhotoRieboR4_g201b201078_f003_259_slice_002_000_0_1742.png: 640x640 (no detections), 359.7ms\n",
      "Speed: 2.3ms preprocess, 359.7ms inference, 0.5ms postprocess per image at shape (1, 3, 640, 640)\n",
      "\n",
      "image 1/1 c:\\Users\\sduai\\Documents\\projis\\qCloudy\\Saiga\\slices\\2025_08_05_PhotoRieboR4_g201b201078_f003_259_slice_002_001_871_1742.png: 640x640 (no detections), 365.0ms\n",
      "Speed: 2.7ms preprocess, 365.0ms inference, 0.3ms postprocess per image at shape (1, 3, 640, 640)\n",
      "\n",
      "image 1/1 c:\\Users\\sduai\\Documents\\projis\\qCloudy\\Saiga\\slices\\2025_08_05_PhotoRieboR4_g201b201078_f003_259_slice_002_002_1742_1742.png: 640x640 (no detections), 364.8ms\n",
      "Speed: 2.3ms preprocess, 364.8ms inference, 0.3ms postprocess per image at shape (1, 3, 640, 640)\n",
      "\n",
      "image 1/1 c:\\Users\\sduai\\Documents\\projis\\qCloudy\\Saiga\\slices\\2025_08_05_PhotoRieboR4_g201b201078_f003_259_slice_002_003_2613_1742.png: 640x640 (no detections), 359.0ms\n",
      "Speed: 2.4ms preprocess, 359.0ms inference, 0.3ms postprocess per image at shape (1, 3, 640, 640)\n",
      "\n",
      "image 1/1 c:\\Users\\sduai\\Documents\\projis\\qCloudy\\Saiga\\slices\\2025_08_05_PhotoRieboR4_g201b201078_f003_259_slice_002_004_3484_1742.png: 640x640 (no detections), 359.6ms\n",
      "Speed: 2.4ms preprocess, 359.6ms inference, 0.3ms postprocess per image at shape (1, 3, 640, 640)\n",
      "\n",
      "image 1/1 c:\\Users\\sduai\\Documents\\projis\\qCloudy\\Saiga\\slices\\2025_08_05_PhotoRieboR4_g201b201078_f003_259_slice_002_005_4355_1742.png: 640x640 (no detections), 365.4ms\n",
      "Speed: 2.6ms preprocess, 365.4ms inference, 0.4ms postprocess per image at shape (1, 3, 640, 640)\n",
      "\n",
      "image 1/1 c:\\Users\\sduai\\Documents\\projis\\qCloudy\\Saiga\\slices\\2025_08_05_PhotoRieboR4_g201b201078_f003_259_slice_002_006_5226_1742.png: 640x640 (no detections), 361.3ms\n",
      "Speed: 2.4ms preprocess, 361.3ms inference, 0.3ms postprocess per image at shape (1, 3, 640, 640)\n",
      "\n",
      "image 1/1 c:\\Users\\sduai\\Documents\\projis\\qCloudy\\Saiga\\slices\\2025_08_05_PhotoRieboR4_g201b201078_f003_259_slice_002_007_6097_1742.png: 640x640 (no detections), 353.2ms\n",
      "Speed: 2.5ms preprocess, 353.2ms inference, 0.3ms postprocess per image at shape (1, 3, 640, 640)\n",
      "\n",
      "image 1/1 c:\\Users\\sduai\\Documents\\projis\\qCloudy\\Saiga\\slices\\2025_08_05_PhotoRieboR4_g201b201078_f003_259_slice_002_008_6968_1742.png: 640x640 (no detections), 351.5ms\n",
      "Speed: 2.3ms preprocess, 351.5ms inference, 0.4ms postprocess per image at shape (1, 3, 640, 640)\n",
      "\n",
      "image 1/1 c:\\Users\\sduai\\Documents\\projis\\qCloudy\\Saiga\\slices\\2025_08_05_PhotoRieboR4_g201b201078_f003_259_slice_003_000_0_2613.png: 640x640 (no detections), 354.3ms\n",
      "Speed: 2.3ms preprocess, 354.3ms inference, 0.4ms postprocess per image at shape (1, 3, 640, 640)\n",
      "\n",
      "image 1/1 c:\\Users\\sduai\\Documents\\projis\\qCloudy\\Saiga\\slices\\2025_08_05_PhotoRieboR4_g201b201078_f003_259_slice_003_001_871_2613.png: 640x640 (no detections), 358.2ms\n",
      "Speed: 2.3ms preprocess, 358.2ms inference, 0.3ms postprocess per image at shape (1, 3, 640, 640)\n",
      "\n",
      "image 1/1 c:\\Users\\sduai\\Documents\\projis\\qCloudy\\Saiga\\slices\\2025_08_05_PhotoRieboR4_g201b201078_f003_259_slice_003_002_1742_2613.png: 640x640 (no detections), 357.7ms\n",
      "Speed: 2.3ms preprocess, 357.7ms inference, 0.4ms postprocess per image at shape (1, 3, 640, 640)\n",
      "\n",
      "image 1/1 c:\\Users\\sduai\\Documents\\projis\\qCloudy\\Saiga\\slices\\2025_08_05_PhotoRieboR4_g201b201078_f003_259_slice_003_003_2613_2613.png: 640x640 6 birds, 368.9ms\n",
      "Speed: 2.7ms preprocess, 368.9ms inference, 0.8ms postprocess per image at shape (1, 3, 640, 640)\n",
      "\n",
      "image 1/1 c:\\Users\\sduai\\Documents\\projis\\qCloudy\\Saiga\\slices\\2025_08_05_PhotoRieboR4_g201b201078_f003_259_slice_003_004_3484_2613.png: 640x640 6 birds, 361.5ms\n",
      "Speed: 2.9ms preprocess, 361.5ms inference, 0.9ms postprocess per image at shape (1, 3, 640, 640)\n",
      "\n",
      "image 1/1 c:\\Users\\sduai\\Documents\\projis\\qCloudy\\Saiga\\slices\\2025_08_05_PhotoRieboR4_g201b201078_f003_259_slice_003_005_4355_2613.png: 640x640 (no detections), 363.2ms\n",
      "Speed: 2.6ms preprocess, 363.2ms inference, 0.4ms postprocess per image at shape (1, 3, 640, 640)\n",
      "\n",
      "image 1/1 c:\\Users\\sduai\\Documents\\projis\\qCloudy\\Saiga\\slices\\2025_08_05_PhotoRieboR4_g201b201078_f003_259_slice_003_006_5226_2613.png: 640x640 (no detections), 349.5ms\n",
      "Speed: 2.5ms preprocess, 349.5ms inference, 0.4ms postprocess per image at shape (1, 3, 640, 640)\n",
      "\n",
      "image 1/1 c:\\Users\\sduai\\Documents\\projis\\qCloudy\\Saiga\\slices\\2025_08_05_PhotoRieboR4_g201b201078_f003_259_slice_003_007_6097_2613.png: 640x640 (no detections), 353.7ms\n",
      "Speed: 2.4ms preprocess, 353.7ms inference, 0.3ms postprocess per image at shape (1, 3, 640, 640)\n",
      "\n",
      "image 1/1 c:\\Users\\sduai\\Documents\\projis\\qCloudy\\Saiga\\slices\\2025_08_05_PhotoRieboR4_g201b201078_f003_259_slice_003_008_6968_2613.png: 640x640 (no detections), 371.3ms\n",
      "Speed: 2.8ms preprocess, 371.3ms inference, 0.4ms postprocess per image at shape (1, 3, 640, 640)\n",
      "\n",
      "image 1/1 c:\\Users\\sduai\\Documents\\projis\\qCloudy\\Saiga\\slices\\2025_08_05_PhotoRieboR4_g201b201078_f003_259_slice_004_000_0_3484.png: 640x640 (no detections), 370.8ms\n",
      "Speed: 2.8ms preprocess, 370.8ms inference, 0.3ms postprocess per image at shape (1, 3, 640, 640)\n",
      "\n",
      "image 1/1 c:\\Users\\sduai\\Documents\\projis\\qCloudy\\Saiga\\slices\\2025_08_05_PhotoRieboR4_g201b201078_f003_259_slice_004_001_871_3484.png: 640x640 (no detections), 355.0ms\n",
      "Speed: 2.5ms preprocess, 355.0ms inference, 0.4ms postprocess per image at shape (1, 3, 640, 640)\n",
      "\n",
      "image 1/1 c:\\Users\\sduai\\Documents\\projis\\qCloudy\\Saiga\\slices\\2025_08_05_PhotoRieboR4_g201b201078_f003_259_slice_004_002_1742_3484.png: 640x640 (no detections), 357.1ms\n",
      "Speed: 2.3ms preprocess, 357.1ms inference, 0.3ms postprocess per image at shape (1, 3, 640, 640)\n",
      "\n",
      "image 1/1 c:\\Users\\sduai\\Documents\\projis\\qCloudy\\Saiga\\slices\\2025_08_05_PhotoRieboR4_g201b201078_f003_259_slice_004_003_2613_3484.png: 640x640 6 birds, 350.9ms\n",
      "Speed: 2.5ms preprocess, 350.9ms inference, 1.1ms postprocess per image at shape (1, 3, 640, 640)\n",
      "\n",
      "image 1/1 c:\\Users\\sduai\\Documents\\projis\\qCloudy\\Saiga\\slices\\2025_08_05_PhotoRieboR4_g201b201078_f003_259_slice_004_004_3484_3484.png: 640x640 11 birds, 361.1ms\n",
      "Speed: 3.0ms preprocess, 361.1ms inference, 0.9ms postprocess per image at shape (1, 3, 640, 640)\n",
      "\n",
      "image 1/1 c:\\Users\\sduai\\Documents\\projis\\qCloudy\\Saiga\\slices\\2025_08_05_PhotoRieboR4_g201b201078_f003_259_slice_004_005_4355_3484.png: 640x640 (no detections), 370.5ms\n",
      "Speed: 2.7ms preprocess, 370.5ms inference, 0.4ms postprocess per image at shape (1, 3, 640, 640)\n",
      "\n",
      "image 1/1 c:\\Users\\sduai\\Documents\\projis\\qCloudy\\Saiga\\slices\\2025_08_05_PhotoRieboR4_g201b201078_f003_259_slice_004_006_5226_3484.png: 640x640 (no detections), 356.1ms\n",
      "Speed: 2.8ms preprocess, 356.1ms inference, 0.3ms postprocess per image at shape (1, 3, 640, 640)\n",
      "\n",
      "image 1/1 c:\\Users\\sduai\\Documents\\projis\\qCloudy\\Saiga\\slices\\2025_08_05_PhotoRieboR4_g201b201078_f003_259_slice_004_007_6097_3484.png: 640x640 (no detections), 351.1ms\n",
      "Speed: 2.6ms preprocess, 351.1ms inference, 0.3ms postprocess per image at shape (1, 3, 640, 640)\n",
      "\n",
      "image 1/1 c:\\Users\\sduai\\Documents\\projis\\qCloudy\\Saiga\\slices\\2025_08_05_PhotoRieboR4_g201b201078_f003_259_slice_004_008_6968_3484.png: 640x640 (no detections), 352.3ms\n",
      "Speed: 2.3ms preprocess, 352.3ms inference, 0.3ms postprocess per image at shape (1, 3, 640, 640)\n",
      "\n",
      "image 1/1 c:\\Users\\sduai\\Documents\\projis\\qCloudy\\Saiga\\slices\\2025_08_05_PhotoRieboR4_g201b201078_f003_259_slice_005_000_0_4355.png: 640x640 (no detections), 356.8ms\n",
      "Speed: 3.2ms preprocess, 356.8ms inference, 0.4ms postprocess per image at shape (1, 3, 640, 640)\n",
      "\n",
      "image 1/1 c:\\Users\\sduai\\Documents\\projis\\qCloudy\\Saiga\\slices\\2025_08_05_PhotoRieboR4_g201b201078_f003_259_slice_005_001_871_4355.png: 640x640 (no detections), 355.3ms\n",
      "Speed: 2.5ms preprocess, 355.3ms inference, 0.3ms postprocess per image at shape (1, 3, 640, 640)\n",
      "\n",
      "image 1/1 c:\\Users\\sduai\\Documents\\projis\\qCloudy\\Saiga\\slices\\2025_08_05_PhotoRieboR4_g201b201078_f003_259_slice_005_002_1742_4355.png: 640x640 (no detections), 356.7ms\n",
      "Speed: 2.6ms preprocess, 356.7ms inference, 0.4ms postprocess per image at shape (1, 3, 640, 640)\n",
      "\n",
      "image 1/1 c:\\Users\\sduai\\Documents\\projis\\qCloudy\\Saiga\\slices\\2025_08_05_PhotoRieboR4_g201b201078_f003_259_slice_005_003_2613_4355.png: 640x640 (no detections), 370.5ms\n",
      "Speed: 2.6ms preprocess, 370.5ms inference, 0.3ms postprocess per image at shape (1, 3, 640, 640)\n",
      "\n",
      "image 1/1 c:\\Users\\sduai\\Documents\\projis\\qCloudy\\Saiga\\slices\\2025_08_05_PhotoRieboR4_g201b201078_f003_259_slice_005_004_3484_4355.png: 640x640 (no detections), 357.0ms\n",
      "Speed: 2.4ms preprocess, 357.0ms inference, 0.3ms postprocess per image at shape (1, 3, 640, 640)\n",
      "\n",
      "image 1/1 c:\\Users\\sduai\\Documents\\projis\\qCloudy\\Saiga\\slices\\2025_08_05_PhotoRieboR4_g201b201078_f003_259_slice_005_005_4355_4355.png: 640x640 (no detections), 353.0ms\n",
      "Speed: 2.4ms preprocess, 353.0ms inference, 0.3ms postprocess per image at shape (1, 3, 640, 640)\n",
      "\n",
      "image 1/1 c:\\Users\\sduai\\Documents\\projis\\qCloudy\\Saiga\\slices\\2025_08_05_PhotoRieboR4_g201b201078_f003_259_slice_005_006_5226_4355.png: 640x640 (no detections), 355.0ms\n",
      "Speed: 2.4ms preprocess, 355.0ms inference, 0.5ms postprocess per image at shape (1, 3, 640, 640)\n",
      "\n",
      "image 1/1 c:\\Users\\sduai\\Documents\\projis\\qCloudy\\Saiga\\slices\\2025_08_05_PhotoRieboR4_g201b201078_f003_259_slice_005_007_6097_4355.png: 640x640 (no detections), 359.0ms\n",
      "Speed: 2.5ms preprocess, 359.0ms inference, 0.3ms postprocess per image at shape (1, 3, 640, 640)\n",
      "\n",
      "image 1/1 c:\\Users\\sduai\\Documents\\projis\\qCloudy\\Saiga\\slices\\2025_08_05_PhotoRieboR4_g201b201078_f003_259_slice_005_008_6968_4355.png: 640x640 (no detections), 350.3ms\n",
      "Speed: 2.3ms preprocess, 350.3ms inference, 0.3ms postprocess per image at shape (1, 3, 640, 640)\n"
     ]
    }
   ],
   "source": [
    "import os\n",
    "output_folder = \"predicted_images-yolov8x\"\n",
    "if not os.path.exists(output_folder):\n",
    "    os.makedirs(output_folder)\n",
    "for image_path in os.listdir(images_folder):\n",
    "    predictions = model.predict(f\"{images_folder}/{image_path}\", conf=0.1)\n",
    "    if len(predictions[0].boxes.conf) > 0:\n",
    "        predictions[0].save(f\"{output_folder}/{image_path}\")\n"
   ]
  },
  {
   "cell_type": "code",
   "execution_count": 12,
   "id": "3a56d362",
   "metadata": {},
   "outputs": [],
   "source": [
    "import multiprocessing as mp\n",
    "from functools import partial\n",
    "from tqdm import tqdm\n",
    "import time\n",
    "\n",
    "def process_single_image(image_path, images_folder, model_path=\"yolo11x.pt\", conf=0.1):\n",
    "    \"\"\"\n",
    "    Обрабатывает одно изображение с помощью YOLO модели\n",
    "    \"\"\"\n",
    "    try:\n",
    "        from ultralytics import YOLO\n",
    "        model = YOLO(model_path)\n",
    "        \n",
    "        full_path = f\"{images_folder}/{image_path}\"\n",
    "        predictions = model.predict(full_path, conf=conf, verbose=False)\n",
    "        \n",
    "        if len(predictions[0].boxes.conf) > 0:\n",
    "            output_path = f\"predicted_images/{image_path}\"\n",
    "            predictions[0].save(output_path)\n",
    "            return image_path, len(predictions[0].boxes.conf), True\n",
    "        else:\n",
    "            return image_path, 0, False\n",
    "    except Exception as e:\n",
    "        print(f\"Ошибка при обработке {image_path}: {e}\")\n",
    "        return image_path, 0, False\n"
   ]
  },
  {
   "cell_type": "code",
   "execution_count": 13,
   "id": "a18e6eb0",
   "metadata": {},
   "outputs": [],
   "source": [
    "def process_images_multiprocessing(images_folder=\"slices/\", num_processes=None, conf=0.1):\n",
    "    \"\"\"\n",
    "    Обрабатывает изображения с использованием многопроцессорности\n",
    "    \"\"\"\n",
    "    # Создаём папку для результатов если её нет\n",
    "    if not os.path.exists(\"predicted_images\"):\n",
    "        os.makedirs(\"predicted_images\")\n",
    "    \n",
    "    # Получаем список всех изображений\n",
    "    image_files = [f for f in os.listdir(images_folder) if f.lower().endswith(('.png', '.jpg', '.jpeg'))]\n",
    "    total_images = len(image_files)\n",
    "    \n",
    "    print(f\"Найдено {total_images} изображений для обработки\")\n",
    "    \n",
    "    if num_processes is None:\n",
    "        num_processes = min(mp.cpu_count(), 8)  # Ограничиваем максимум 8 процессами\n",
    "    \n",
    "    print(f\"Используется {num_processes} процессов\")\n",
    "    \n",
    "    # Создаём частичную функцию с зафиксированными параметрами\n",
    "    process_func = partial(process_single_image, \n",
    "                          images_folder=images_folder, \n",
    "                          conf=conf)\n",
    "    \n",
    "    start_time = time.time()\n",
    "    \n",
    "    # Многопроцессорная обработка\n",
    "    with mp.Pool(processes=num_processes) as pool:\n",
    "        results = list(tqdm(pool.imap(process_func, image_files), \n",
    "                           total=total_images, \n",
    "                           desc=\"Обработка изображений\"))\n",
    "    \n",
    "    end_time = time.time()\n",
    "    \n",
    "    # Анализ результатов\n",
    "    processed_count = sum(1 for _, _, saved in results if saved)\n",
    "    total_detections = sum(count for _, count, _ in results)\n",
    "    \n",
    "    print(f\"\\nРезультаты обработки:\")\n",
    "    print(f\"Всего изображений: {total_images}\")\n",
    "    print(f\"Изображений с детекциями: {processed_count}\")\n",
    "    print(f\"Общее количество детекций: {total_detections}\")\n",
    "    print(f\"Время обработки: {end_time - start_time:.2f} секунд\")\n",
    "    print(f\"Среднее время на изображение: {(end_time - start_time) / total_images:.2f} секунд\")\n",
    "    \n",
    "    return results\n"
   ]
  },
  {
   "cell_type": "code",
   "execution_count": null,
   "id": "e87a23b2",
   "metadata": {},
   "outputs": [
    {
     "name": "stdout",
     "output_type": "stream",
     "text": [
      "Найдено 54 изображений для обработки\n",
      "Используется 4 процессов\n"
     ]
    },
    {
     "name": "stderr",
     "output_type": "stream",
     "text": [
      "Обработка изображений:   0%|          | 0/54 [00:00<?, ?it/s]"
     ]
    }
   ],
   "source": [
    "# Запускаем многопроцессорную обработку\n",
    "if __name__ == \"__main__\":  # Важно для Windows\n",
    "    results = process_images_multiprocessing(\n",
    "        images_folder=\"slices/\",\n",
    "        num_processes=4,  # Можете изменить количество процессов\n",
    "        conf=0.1\n",
    "    )\n"
   ]
  },
  {
   "cell_type": "code",
   "execution_count": null,
   "id": "7cc25f1d",
   "metadata": {},
   "outputs": [],
   "source": []
  }
 ],
 "metadata": {
  "kernelspec": {
   "display_name": "saiga",
   "language": "python",
   "name": "python3"
  },
  "language_info": {
   "codemirror_mode": {
    "name": "ipython",
    "version": 3
   },
   "file_extension": ".py",
   "mimetype": "text/x-python",
   "name": "python",
   "nbconvert_exporter": "python",
   "pygments_lexer": "ipython3",
   "version": "3.13.7"
  }
 },
 "nbformat": 4,
 "nbformat_minor": 5
}

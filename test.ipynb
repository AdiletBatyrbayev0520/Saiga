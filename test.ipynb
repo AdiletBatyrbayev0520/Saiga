{
 "cells": [
  {
   "cell_type": "code",
   "execution_count": null,
   "id": "6b0bbefd",
   "metadata": {},
   "outputs": [],
   "source": [
    "python src/tools/image_slicer.py --image_path 2025_08_05_PhotoRieboR4_g201b201078_f003_259.JPG --overlap_percentage 30 --destination_folder ./slices/ --slice-size 512"
   ]
  },
  {
   "cell_type": "code",
   "execution_count": 1,
   "id": "65c4c19b",
   "metadata": {},
   "outputs": [
    {
     "name": "stdout",
     "output_type": "stream",
     "text": [
      "Tue Sep 30 13:45:42 2025       \n",
      "+-----------------------------------------------------------------------------------------+\n",
      "| NVIDIA-SMI 576.88                 Driver Version: 576.88         CUDA Version: 12.9     |\n",
      "|-----------------------------------------+------------------------+----------------------+\n",
      "| GPU  Name                  Driver-Model | Bus-Id          Disp.A | Volatile Uncorr. ECC |\n",
      "| Fan  Temp   Perf          Pwr:Usage/Cap |           Memory-Usage | GPU-Util  Compute M. |\n",
      "|                                         |                        |               MIG M. |\n",
      "|=========================================+========================+======================|\n",
      "|   0  NVIDIA GeForce RTX 5090      WDDM  |   00000000:02:00.0  On |                  N/A |\n",
      "|  0%   48C    P8             47W /  600W |    1946MiB /  32607MiB |     10%      Default |\n",
      "|                                         |                        |                  N/A |\n",
      "+-----------------------------------------+------------------------+----------------------+\n",
      "|   1  NVIDIA GeForce RTX 5090      WDDM  |   00000000:83:00.0 Off |                  N/A |\n",
      "|  0%   37C    P8             13W /  600W |       0MiB /  32607MiB |      0%      Default |\n",
      "|                                         |                        |                  N/A |\n",
      "+-----------------------------------------+------------------------+----------------------+\n",
      "                                                                                         \n",
      "+-----------------------------------------------------------------------------------------+\n",
      "| Processes:                                                                              |\n",
      "|  GPU   GI   CI              PID   Type   Process name                        GPU Memory |\n",
      "|        ID   ID                                                               Usage      |\n",
      "|=========================================================================================|\n",
      "|    0   N/A  N/A            5924    C+G   ...96_x64__ttt1ap7aakyb4\\Arc.exe      N/A      |\n",
      "|    0   N/A  N/A            8564    C+G   ...em32\\ApplicationFrameHost.exe      N/A      |\n",
      "|    0   N/A  N/A            9860    C+G   ...lus\\logioptionsplus_agent.exe      N/A      |\n",
      "|    0   N/A  N/A           11536    C+G   C:\\Windows\\explorer.exe               N/A      |\n",
      "|    0   N/A  N/A           11904    C+G   ...2txyewy\\CrossDeviceResume.exe      N/A      |\n",
      "|    0   N/A  N/A           13620    C+G   ...ntrolPanel\\SystemSettings.exe      N/A      |\n",
      "|    0   N/A  N/A           14472    C+G   ..._cw5n1h2txyewy\\SearchHost.exe      N/A      |\n",
      "|    0   N/A  N/A           15164    C+G   ...y\\StartMenuExperienceHost.exe      N/A      |\n",
      "|    0   N/A  N/A           18136    C+G   ....0.3485.81\\msedgewebview2.exe      N/A      |\n",
      "|    0   N/A  N/A           20240    C+G   ...al\\Programs\\cursor\\Cursor.exe      N/A      |\n",
      "|    0   N/A  N/A           20404    C+G   ...IA app\\CEF\\NVIDIA Overlay.exe      N/A      |\n",
      "|    0   N/A  N/A           20992    C+G   ...IA app\\CEF\\NVIDIA Overlay.exe      N/A      |\n",
      "|    0   N/A  N/A           22288    C+G   ...ilder\\LogiAiPromptBuilder.exe      N/A      |\n",
      "|    0   N/A  N/A           23200    C+G   ....0.3485.81\\msedgewebview2.exe      N/A      |\n",
      "|    0   N/A  N/A           23948    C+G   ...5n1h2txyewy\\TextInputHost.exe      N/A      |\n",
      "|    0   N/A  N/A           24256    C+G   ...8bbwe\\PhoneExperienceHost.exe      N/A      |\n",
      "|    0   N/A  N/A           28828    C+G   ...l\\slack\\app-4.46.96\\slack.exe      N/A      |\n",
      "|    0   N/A  N/A           29036    C+G   ...l\\slack\\app-4.46.96\\slack.exe      N/A      |\n",
      "|    0   N/A  N/A           29812    C+G   ....0.3485.81\\msedgewebview2.exe      N/A      |\n",
      "|    0   N/A  N/A           30668    C+G   ...les (x86)\\AnyDesk\\AnyDesk.exe      N/A      |\n",
      "|    0   N/A  N/A           30964    C+G   ...l\\slack\\app-4.46.96\\slack.exe      N/A      |\n",
      "|    0   N/A  N/A           31736    C+G   ...ng\\NCALayer\\jre\\bin\\javaw.exe      N/A      |\n",
      "|    0   N/A  N/A           32276    C+G   ...crosoft\\OneDrive\\OneDrive.exe      N/A      |\n",
      "|    0   N/A  N/A           32788    C+G   ...xyewy\\ShellExperienceHost.exe      N/A      |\n",
      "|    0   N/A  N/A           34436    C+G   ...r\\frontend\\Docker Desktop.exe      N/A      |\n",
      "|    0   N/A  N/A           35292    C+G   ....0.3485.81\\msedgewebview2.exe      N/A      |\n",
      "|    0   N/A  N/A           37068    C+G   C:\\Windows\\explorer.exe               N/A      |\n",
      "|    0   N/A  N/A           44836    C+G   ...4__cv1g1gvanyjgm\\WhatsApp.exe      N/A      |\n",
      "|    0   N/A  N/A           45720    C+G   ...Claude\\app-0.13.37\\claude.exe      N/A      |\n",
      "|    0   N/A  N/A           47140    C+G   ...t\\Edge\\Application\\msedge.exe      N/A      |\n",
      "|    0   N/A  N/A           48708    C+G   ...ms\\Microsoft VS Code\\Code.exe      N/A      |\n",
      "|    0   N/A  N/A           48840    C+G   ...64__8wekyb3d8bbwe\\Copilot.exe      N/A      |\n",
      "|    0   N/A  N/A           59100    C+G   ...in\\git-credential-manager.exe      N/A      |\n",
      "|    0   N/A  N/A           62932    C+G   ...96_x64__ttt1ap7aakyb4\\Arc.exe      N/A      |\n",
      "|    0   N/A  N/A           64584    C+G   ...Telegram Desktop\\Telegram.exe      N/A      |\n",
      "|    0   N/A  N/A           68416    C+G   ...indows\\System32\\ShellHost.exe      N/A      |\n",
      "+-----------------------------------------------------------------------------------------+\n"
     ]
    }
   ],
   "source": [
    "!nvidia-smi"
   ]
  },
  {
   "cell_type": "code",
   "execution_count": 19,
   "id": "222594d0",
   "metadata": {},
   "outputs": [
    {
     "name": "stdout",
     "output_type": "stream",
     "text": [
      "CUDA доступна: True\n",
      "Название GPU: NVIDIA GeForce RTX 5090\n",
      "Количество GPU: 2\n",
      "Текущий GPU device: 0\n",
      "Доступные устройства: ['cuda:0', 'cuda:1']\n"
     ]
    }
   ],
   "source": [
    "import torch\n",
    "devices = []\n",
    "print(f\"CUDA доступна: {torch.cuda.is_available()}\")\n",
    "if torch.cuda.is_available():\n",
    "    print(f\"Название GPU: {torch.cuda.get_device_name(0)}\")\n",
    "    print(f\"Количество GPU: {torch.cuda.device_count()}\")\n",
    "    print(f\"Текущий GPU device: {torch.cuda.current_device()}\")\n",
    "    for i in range(torch.cuda.device_count()):\n",
    "        devices.append(f'cuda:{i}')\n",
    "    print(f\"Доступные устройства: {devices}\")\n",
    "else:\n",
    "    print(\"CUDA недоступна, используется CPU\")\n",
    "    device = 'cpu'\n"
   ]
  },
  {
   "cell_type": "code",
   "execution_count": 5,
   "id": "499f4b1e",
   "metadata": {},
   "outputs": [],
   "source": [
    "image_path = \"2025_08_05_PhotoRieboR4_g201b201078_f003_259.JPG\""
   ]
  },
  {
   "cell_type": "code",
   "execution_count": 47,
   "id": "9dc3e60e",
   "metadata": {},
   "outputs": [],
   "source": [
    "slice_path = r\"slices\\2025_08_05_PhotoRieboR4_g201b201078_f003_259\\2025_08_05_PhotoRieboR4_g201b201078_f003_259_slice_007_007_3227_3227.png\""
   ]
  },
  {
   "cell_type": "code",
   "execution_count": 48,
   "id": "fd00fce2",
   "metadata": {},
   "outputs": [
    {
     "name": "stdout",
     "output_type": "stream",
     "text": [
      "\n",
      "image 1/1 c:\\Users\\sduai\\Desktop\\Batyrbayev_Adilet\\qCloudy\\Projects\\PoC\\Saiga\\slices\\2025_08_05_PhotoRieboR4_g201b201078_f003_259\\2025_08_05_PhotoRieboR4_g201b201078_f003_259_slice_007_007_3227_3227.png: 640x640 6 birds, 28.6ms\n",
      "Speed: 3.6ms preprocess, 28.6ms inference, 5.2ms postprocess per image at shape (1, 3, 640, 640)\n",
      "Количество детекций: 6\n",
      "Используемое устройство: cuda\n",
      "tensor([[3.3217e+02, 1.2781e-01, 3.6921e+02, 4.3585e+01],\n",
      "        [3.6726e+02, 2.9117e+02, 4.0825e+02, 3.1028e+02],\n",
      "        [3.2111e+02, 4.2453e+02, 3.5456e+02, 4.5206e+02],\n",
      "        [2.8269e+02, 4.0887e+02, 3.1934e+02, 4.4877e+02],\n",
      "        [4.0217e+02, 3.7962e+02, 4.2558e+02, 4.0467e+02],\n",
      "        [4.7605e+02, 4.0503e+02, 5.1181e+02, 4.3833e+02]], device='cuda:0')\n"
     ]
    }
   ],
   "source": [
    "predictions = model.predict(slice_path, conf=0.1, device=device)\n",
    "print(f\"Количество детекций: {len(predictions[0].boxes.conf)}\")\n",
    "print(f\"Используемое устройство: {device}\")\n",
    "print(predictions[0].boxes.xyxy)\n",
    "list_of_boxes = predictions[0].boxes.xyxy.tolist()"
   ]
  },
  {
   "cell_type": "code",
   "execution_count": 17,
   "id": "fde9f63a",
   "metadata": {},
   "outputs": [
    {
     "data": {
      "text/plain": [
       "'predicted_image.png'"
      ]
     },
     "execution_count": 17,
     "metadata": {},
     "output_type": "execute_result"
    }
   ],
   "source": [
    "predictions[0].save(\"predicted_image.png\")"
   ]
  },
  {
   "cell_type": "markdown",
   "id": "1a49f124",
   "metadata": {},
   "source": []
  },
  {
   "cell_type": "markdown",
   "id": "8b1f720b",
   "metadata": {},
   "source": []
  },
  {
   "cell_type": "markdown",
   "id": "a2042ff4",
   "metadata": {},
   "source": []
  },
  {
   "cell_type": "code",
   "execution_count": null,
   "id": "864c9ff0",
   "metadata": {},
   "outputs": [],
   "source": [
    "import os\n",
    "from src.tools.image_slicer import create_image_slices\n",
    "images_folder = \"dataset/0.0.1/АФС для обработки ИИ\"\n",
    "image_paths = [f\"{images_folder}/{image_path}\" for image_path in os.listdir(images_folder)]\n",
    "for image_path in image_paths:\n",
    "    create_image_slices(\n",
    "        image_path=image_path, \n",
    "        overlap_percentage=10, \n",
    "        destination_folder=\"slices\",\n",
    "        slice_size=512\n",
    "    )"
   ]
  },
  {
   "cell_type": "code",
   "execution_count": 6,
   "id": "39d403c5",
   "metadata": {},
   "outputs": [
    {
     "name": "stdout",
     "output_type": "stream",
     "text": [
      "CUDA доступна: True\n",
      "Название GPU: NVIDIA GeForce RTX 5090\n",
      "Количество GPU: 2\n",
      "Текущий GPU device: 0\n",
      "Доступные устройства: cuda\n"
     ]
    }
   ],
   "source": [
    "import torch\n",
    "print(f\"CUDA доступна: {torch.cuda.is_available()}\")\n",
    "if torch.cuda.is_available():\n",
    "    print(f\"Название GPU: {torch.cuda.get_device_name(0)}\")\n",
    "    print(f\"Количество GPU: {torch.cuda.device_count()}\")\n",
    "    print(f\"Текущий GPU device: {torch.cuda.current_device()}\")\n",
    "    device = 'cuda'\n",
    "    print(f\"Доступные устройства: {device}\")\n",
    "else:\n",
    "    print(\"CUDA недоступна, используется CPU\")\n",
    "    device = 'cpu'"
   ]
  },
  {
   "cell_type": "code",
   "execution_count": 7,
   "id": "96d18a22",
   "metadata": {},
   "outputs": [
    {
     "name": "stdout",
     "output_type": "stream",
     "text": [
      "Модель загружена на: cuda\n"
     ]
    }
   ],
   "source": [
    "model_name = 'best_4'\n",
    "model = YOLO(f'{model_name}.pt')\n",
    "model.to(device)\n",
    "print(f\"Модель загружена на: {device}\")"
   ]
  },
  {
   "cell_type": "code",
   "execution_count": 8,
   "id": "2df407f5",
   "metadata": {},
   "outputs": [],
   "source": [
    "images_folder = \"slices\""
   ]
  },
  {
   "cell_type": "code",
   "execution_count": null,
   "id": "e9a6b180",
   "metadata": {},
   "outputs": [],
   "source": [
    "import os\n",
    "import time\n",
    "\n",
    "output_folder = f\"predicted_images-{model_name}\"\n",
    "if not os.path.exists(output_folder):\n",
    "    os.makedirs(output_folder)\n",
    "\n",
    "print(f\"Обработка изображений на устройстве: {device}\")\n",
    "start_time = time.time()\n",
    "processed_count = 0\n",
    "total_detections = 0\n",
    "boxes_list = []\n",
    "for folder in os.listdir(images_folder):\n",
    "    folder_path = f\"{images_folder}/{folder}\"\n",
    "    if os.path.isdir(folder_path):\n",
    "        for image_path in os.listdir(folder_path):\n",
    "            full_image_path = f\"{folder_path}/{image_path}\"\n",
    "            predictions = model.predict(full_image_path, conf=0.1, device=device, verbose=False)\n",
    "            \n",
    "            if len(predictions[0].boxes.conf) > 0:\n",
    "                boxes_list.append({'source_image_path': full_image_path, 'coordinates': predictions[0].boxes.xyxy.tolist()})\n",
    "                if not os.path.exists(f\"{output_folder}/{folder}\"):\n",
    "                    os.makedirs(f\"{output_folder}/{folder}\")\n",
    "                predictions[0].save(f\"{output_folder}/{folder}/{image_path}\")\n",
    "                processed_count += 1\n",
    "                total_detections += len(predictions[0].boxes.conf)\n",
    "                if processed_count % 10 == 0:  \n",
    "                    print(f\"Обработано: {processed_count} изображений с детекциями\")\n",
    "\n",
    "end_time = time.time()\n",
    "print(f\"\\nГотово! Обработано {processed_count} изображений с детекциями\")\n",
    "print(f\"Общее количество детекций: {total_detections}\")\n",
    "print(f\"Время обработки: {end_time - start_time:.2f} секунд\")\n",
    "print(f\"Устройство: {device}\")\n"
   ]
  },
  {
   "cell_type": "code",
   "execution_count": 31,
   "id": "373315a7",
   "metadata": {},
   "outputs": [
    {
     "name": "stdout",
     "output_type": "stream",
     "text": [
      "best_4 slices predicted_images\n"
     ]
    }
   ],
   "source": [
    "import torch\n",
    "from ultralytics import YOLO\n",
    "import os\n",
    "import time\n",
    "import sys\n",
    "if 'src.config' in sys.modules:\n",
    "    del sys.modules['src.config']\n",
    "from src.config import MODEL_NAME, SLICES_FOLDER, OUTPUT_FOLDER_PREFIX\n",
    "print(MODEL_NAME, SLICES_FOLDER, OUTPUT_FOLDER_PREFIX)"
   ]
  },
  {
   "cell_type": "code",
   "execution_count": null,
   "id": "0f73f8ae",
   "metadata": {},
   "outputs": [],
   "source": [
    "\n",
    "def get_devices():\n",
    "    devices = []\n",
    "    print(f\"CUDA доступна: {torch.cuda.is_available()}\")\n",
    "    if torch.cuda.is_available():\n",
    "        print(f\"Название GPU: {torch.cuda.get_device_name(0)}\")\n",
    "        print(f\"Количество GPU: {torch.cuda.device_count()}\")\n",
    "        print(f\"Текущий GPU device: {torch.cuda.current_device()}\")\n",
    "        for i in range(torch.cuda.device_count()):\n",
    "            devices.append(f'cuda:{i}')\n",
    "        print(f\"Доступные устройства: {devices}\")\n",
    "    else:\n",
    "        print(\"CUDA недоступна, используется CPU\")\n",
    "        devices.append('cpu')\n",
    "    return devices\n",
    "\n",
    "def get_models(model_name, devices):\n",
    "    models = []\n",
    "    for device in devices:\n",
    "        models.append(YOLO(f'{model_name}.pt'))\n",
    "        models[-1].to(device)\n",
    "        print(f\"Модель загружена на: {device}\")\n",
    "    return models\n",
    "\n",
    "def create_destination_folder(output_folder_prefix, model_name):\n",
    "    output_folder = f\"{output_folder_prefix}-{model_name}\"\n",
    "    if not os.path.exists(output_folder):\n",
    "        os.makedirs(output_folder)\n",
    "    return output_folder\n",
    "\n",
    "def copyfile(source_path, destination_path):\n",
    "    with open(source_path, 'rb') as src, open(destination_path, 'wb') as dst:\n",
    "        dst.write(src.read())\n",
    "\n",
    "def create_classes_file(output_folder):\n",
    "    with open(f\"{output_folder}/classes.txt\", \"w\") as f:\n",
    "        f.write(\"saiga\\n\")\n",
    "\n",
    "def create_annotation_file(image_path, boxes, output_folder, image_size=512):\n",
    "    if not os.path.exists(f\"{output_folder}/classes.txt\"):\n",
    "        create_classes_file(output_folder)\n",
    "    \n",
    "    filename = image_path.split('/')[-1].split('.')[0]\n",
    "    with open(f\"{output_folder}/{filename}.txt\", \"w\") as f:  # \"w\" вместо \"a\"\n",
    "        for box in boxes:\n",
    "            x_center = (box[0] + box[2]) / 2 / image_size\n",
    "            y_center = (box[1] + box[3]) / 2 / image_size\n",
    "            width = (box[2] - box[0]) / image_size\n",
    "            height = (box[3] - box[1]) / image_size\n",
    "            f.write(f\"0 {x_center} {y_center} {width} {height}\\n\")\n",
    "\n",
    "def process_images(model, images_folder, output_folder, device):\n",
    "    print(f\"Обработка изображений на устройстве: {device}\")\n",
    "    start_time = time.time()\n",
    "    processed_count = 0\n",
    "    total_detections = 0\n",
    "    boxes_list = []\n",
    "    for folder in os.listdir(images_folder):\n",
    "        folder_path = f\"{images_folder}/{folder}\"\n",
    "        if os.path.isdir(folder_path):\n",
    "            for image_path in os.listdir(folder_path):\n",
    "                full_image_path = f\"{folder_path}/{image_path}\"\n",
    "                predictions = model.predict(full_image_path, conf=0.1, device=device, verbose=False)\n",
    "                \n",
    "                if len(predictions[0].boxes.conf) > 0:\n",
    "                    boxes_data = {'source_image_path': full_image_path, 'coordinates': predictions[0].boxes.xyxy.tolist()}\n",
    "                    boxes_list.append(boxes_data)\n",
    "                    if not os.path.exists(f\"{output_folder}/{folder}\"):\n",
    "                        os.makedirs(f\"{output_folder}/{folder}\")\n",
    "                    final_image_path = f\"{output_folder}/{folder}/{image_path}\"\n",
    "                    copyfile(full_image_path, final_image_path)\n",
    "                    # predictions[0].save(final_image_path)\n",
    "                    create_annotation_file(full_image_path, predictions[0].boxes.xyxy.tolist(), f\"{output_folder}/{folder}\")                  \n",
    "                    processed_count += 1\n",
    "                    total_detections += len(predictions[0].boxes.conf)\n",
    "                    if processed_count % 10 == 0:  \n",
    "                        print(f\"Обработано: {processed_count} изображений с детекциями\")\n",
    "\n",
    "    end_time = time.time()\n",
    "    print(f\"\\nГотово! Обработано {processed_count} изображений с детекциями\")\n",
    "    print(f\"Общее количество детекций: {total_detections}\")\n",
    "    print(f\"Время обработки: {end_time - start_time:.2f} секунд\")\n",
    "    print(f\"Устройство: {device}\")\n",
    "    return boxes_list\n",
    "\n",
    "devices = get_devices()\n",
    "models = get_models(MODEL_NAME, devices)\n",
    "output_folder = create_destination_folder(OUTPUT_FOLDER_PREFIX, MODEL_NAME)\n",
    "boxes_list = process_images(models[0], SLICES_FOLDER, output_folder, devices[0])\n"
   ]
  },
  {
   "cell_type": "code",
   "execution_count": null,
   "id": "7cc25f1d",
   "metadata": {},
   "outputs": [],
   "source": [
    "boxes_list"
   ]
  },
  {
   "cell_type": "code",
   "execution_count": null,
   "id": "7cf89311",
   "metadata": {},
   "outputs": [],
   "source": [
    "print(\"boxes_list\", len(boxes_list))\n",
    "for boxes in boxes_list:\n",
    "    x_min = int(boxes['source_image_path'].split('/')[-1].split('_')[-2].split('.')[0])\n",
    "    y_min = int(boxes['source_image_path'].split('/')[-1].split('_')[-1].split('.')[0])\n",
    "\n",
    "    for box in boxes['coordinates']:\n",
    "        box[0] = box[0] + x_min\n",
    "        box[1] = box[1] + y_min\n",
    "        box[2] = box[2] + x_min\n",
    "        box[3] = box[3] + y_min\n",
    "\n",
    "boxes_list"
   ]
  },
  {
   "cell_type": "code",
   "execution_count": null,
   "id": "719834e6",
   "metadata": {},
   "outputs": [],
   "source": [
    "# let's count outliers for each image\n",
    "import numpy as np\n",
    "print(\"boxes_list\", len(boxes_list))\n",
    "\n",
    "filtered_boxes_from_outliers = []\n",
    "for boxes in boxes_list:\n",
    "    areas = []\n",
    "    for box in boxes['coordinates']:\n",
    "        box_area = (box[2] - box[0]) * (box[3] - box[1])\n",
    "        areas.append(box_area)\n",
    "    mean_of_areas = sum(areas) / len(areas)\n",
    "\n",
    "    q1 = np.percentile(areas, 25)\n",
    "    q3 = np.percentile(areas, 75)\n",
    "    iqr = q3 - q1\n",
    "    lower_bound = q1 - 3 * iqr\n",
    "    upper_bound = q3 + 3 * iqr\n",
    "    filtered_coordinates_from_outliers = []\n",
    "    for box in boxes['coordinates']:\n",
    "        box_area = (box[2] - box[0]) * (box[3] - box[1])\n",
    "        if box_area > lower_bound and box_area < upper_bound:\n",
    "            filtered_coordinates_from_outliers.append(box)\n",
    "    \n",
    "    print(\"sum of areas\", sum(areas))\n",
    "    print(\"mean of areas\", mean_of_areas)\n",
    "    print(\"lower_bound\", lower_bound)\n",
    "    print(\"upper_bound\", upper_bound)\n",
    "    print(\"iqr\", iqr)\n",
    "    print(\"amount of filtered_coordinates_from_outliers\", len(filtered_coordinates_from_outliers))\n",
    "    if len(filtered_coordinates_from_outliers) > 0:\n",
    "        filtered_boxes_from_outliers.append({'source_image_path': boxes['source_image_path'], 'coordinates': filtered_coordinates_from_outliers})\n",
    "\n",
    "print(\"amount of filtered_boxes_from_outliers\", len(filtered_boxes_from_outliers))\n"
   ]
  },
  {
   "cell_type": "code",
   "execution_count": null,
   "id": "a3de813d",
   "metadata": {},
   "outputs": [],
   "source": [
    "# Импорты уже выполнены в предыдущей ячейке\n",
    "def calculate_iou(box1, box2):\n",
    "    # box = [x1, y1, x2, y2]\n",
    "    x_left = max(box1[0], box2[0])\n",
    "    y_top = max(box1[1], box2[1])\n",
    "    x_right = min(box1[2], box2[2])\n",
    "    y_bottom = min(box1[3], box2[3])\n",
    "\n",
    "    if x_right < x_left or y_bottom < y_top:\n",
    "        return 0.0\n",
    "\n",
    "    intersection_area = (x_right - x_left) * (y_bottom - y_top)\n",
    "    print(\"intersection_area\", intersection_area)\n",
    "    box1_area = (box1[2] - box1[0]) * (box1[3] - box1[1])\n",
    "    box2_area = (box2[2] - box2[0]) * (box2[3] - box2[1])\n",
    "    union_area = box1_area + box2_area - intersection_area\n",
    "    print(\"union_area\", union_area)\n",
    "\n",
    "    if union_area == 0:\n",
    "        return 0.0\n",
    "\n",
    "    return intersection_area / union_area\n",
    "\n",
    "threshold = 0.5\n",
    "\n",
    "all_boxes = []\n",
    "for box_group in boxes_list:\n",
    "    source_path = box_group['source_image_path']\n",
    "    for coord in box_group['coordinates']:\n",
    "        all_boxes.append({\n",
    "            'coordinates': coord,\n",
    "            'source': source_path\n",
    "        })\n",
    "\n",
    "with_duplicates = len(all_boxes)\n",
    "print(f\"Всего боксов для сравнения: {with_duplicates}\")\n",
    "count = 0\n",
    "for i in range(len(all_boxes)):\n",
    "    for j in range(i + 1, len(all_boxes)):\n",
    "        iou = calculate_iou(all_boxes[i]['coordinates'], all_boxes[j]['coordinates'])\n",
    "        # print(\"iou\", iou)\n",
    "        if iou > threshold:\n",
    "            print(f\"Боксы с IoU > {threshold}:\")\n",
    "            print(f\"Бокс 1: {all_boxes[i]['coordinates']} (из {all_boxes[i]['source']})\")\n",
    "            print(f\"Бокс 2: {all_boxes[j]['coordinates']} (из {all_boxes[j]['source']})\")         \n",
    "            print(f\"IoU: {iou:.4f}\")\n",
    "            print(\"---\")\n",
    "            count += 1\n",
    "\n",
    "print(f\"Количество боксов с IoU > {threshold}: {count}\")\n",
    "without_duplicates = len(all_boxes) - count\n",
    "print(f\"Количество боксов без дубликатов: {without_duplicates}\")"
   ]
  },
  {
   "cell_type": "code",
   "execution_count": null,
   "id": "285e9564",
   "metadata": {},
   "outputs": [],
   "source": []
  },
  {
   "cell_type": "code",
   "execution_count": null,
   "id": "cb8aaec2",
   "metadata": {},
   "outputs": [],
   "source": []
  },
  {
   "cell_type": "code",
   "execution_count": null,
   "id": "57aa1753",
   "metadata": {},
   "outputs": [],
   "source": []
  },
  {
   "cell_type": "code",
   "execution_count": null,
   "id": "8735f9ab",
   "metadata": {},
   "outputs": [],
   "source": []
  },
  {
   "cell_type": "code",
   "execution_count": null,
   "id": "1aed7556",
   "metadata": {},
   "outputs": [],
   "source": [
    "import numpy as np\n",
    "\n",
    "sum_of_areas = 0\n",
    "areas = []\n",
    "for box in all_boxes:\n",
    "    box_area = (box['coordinates'][2] - box['coordinates'][0]) * (box['coordinates'][3] - box['coordinates'][1])\n",
    "    sum_of_areas += box_area\n",
    "    areas.append(box_area)\n",
    "print(\"sum of areas in areas\", sum(areas))\n",
    "print(\"mean of areas in areas\", sum(areas) / len(areas))\n",
    "print(\"sum_of_areas\", sum_of_areas)\n",
    "mean_of_areas = sum_of_areas / len(all_boxes)\n",
    "print(\"mean_of_areas\", mean_of_areas)\n",
    "iqr = np.percentile(areas, 75) - np.percentile(areas, 25)\n",
    "print(\"iqr\", iqr)\n",
    "without_duplicates_and_outliers = without_duplicates\n",
    "outliers_count = 0\n",
    "for box in all_boxes:\n",
    "    # for each 'source' it has to count outliers\n",
    "\n",
    "    box_area = (box['coordinates'][2] - box['coordinates'][0]) * (box['coordinates'][3] - box['coordinates'][1])\n",
    "    if box_area > mean_of_areas + 3 * iqr:\n",
    "        print(\"plus outliersbox_area\", box_area)\n",
    "        print(\"box\", box)\n",
    "        print(\"---\")\n",
    "        without_duplicates_and_outliers += 1\n",
    "        # outliers_count += 1\n",
    "    if box_area < mean_of_areas - 3 * iqr:\n",
    "        print(\"minus outliers box_area\", box_area)\n",
    "        print(\"box\", box)\n",
    "        print(\"---\")\n",
    "        without_duplicates_and_outliers -= 1\n",
    "        outliers_count += 1\n",
    "print(\"outliers_count\", outliers_count)"
   ]
  },
  {
   "cell_type": "code",
   "execution_count": 15,
   "id": "9af3d403",
   "metadata": {},
   "outputs": [
    {
     "data": {
      "text/plain": [
       "47"
      ]
     },
     "execution_count": 15,
     "metadata": {},
     "output_type": "execute_result"
    }
   ],
   "source": [
    "without_duplicates_and_outliers"
   ]
  }
 ],
 "metadata": {
  "kernelspec": {
   "display_name": ".venv",
   "language": "python",
   "name": "python3"
  },
  "language_info": {
   "codemirror_mode": {
    "name": "ipython",
    "version": 3
   },
   "file_extension": ".py",
   "mimetype": "text/x-python",
   "name": "python",
   "nbconvert_exporter": "python",
   "pygments_lexer": "ipython3",
   "version": "3.12.11"
  }
 },
 "nbformat": 4,
 "nbformat_minor": 5
}

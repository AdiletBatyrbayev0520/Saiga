{
 "cells": [
  {
   "cell_type": "markdown",
   "id": "0c9be1a7",
   "metadata": {},
   "source": [
    "## For Windows"
   ]
  },
  {
   "cell_type": "code",
   "execution_count": 1,
   "id": "9628682f",
   "metadata": {},
   "outputs": [
    {
     "name": "stdout",
     "output_type": "stream",
     "text": [
      "Requirement already satisfied: uv in c:\\users\\sduai\\appdata\\local\\programs\\python\\python311\\lib\\site-packages (0.8.15)\n",
      "Note: you may need to restart the kernel to use updated packages.\n"
     ]
    },
    {
     "name": "stderr",
     "output_type": "stream",
     "text": [
      "\n",
      "[notice] A new release of pip is available: 24.0 -> 25.2\n",
      "[notice] To update, run: python.exe -m pip install --upgrade pip\n"
     ]
    }
   ],
   "source": [
    "%pip install uv"
   ]
  },
  {
   "cell_type": "code",
   "execution_count": 4,
   "id": "3998b312",
   "metadata": {},
   "outputs": [
    {
     "name": "stderr",
     "output_type": "stream",
     "text": [
      "\u001b[2mResolved \u001b[1m50 packages\u001b[0m \u001b[2min 0.91ms\u001b[0m\u001b[0m\n",
      "\u001b[2mAudited \u001b[1m34 packages\u001b[0m \u001b[2min 1ms\u001b[0m\u001b[0m\n"
     ]
    }
   ],
   "source": [
    "!uv sync"
   ]
  },
  {
   "cell_type": "markdown",
   "id": "d0cea246",
   "metadata": {},
   "source": [
    "## For Linux"
   ]
  },
  {
   "cell_type": "code",
   "execution_count": null,
   "id": "ad553503",
   "metadata": {},
   "outputs": [],
   "source": [
    "!git status"
   ]
  },
  {
   "cell_type": "code",
   "execution_count": null,
   "id": "a060e15e",
   "metadata": {},
   "outputs": [],
   "source": [
    "!git fetch origin\n",
    "!git pull origin master"
   ]
  },
  {
   "cell_type": "code",
   "execution_count": null,
   "id": "2dfeffd2",
   "metadata": {},
   "outputs": [],
   "source": [
    "!git log --oneline -5"
   ]
  }
 ],
 "metadata": {
  "kernelspec": {
   "display_name": "Python 3",
   "language": "python",
   "name": "python3"
  },
  "language_info": {
   "codemirror_mode": {
    "name": "ipython",
    "version": 3
   },
   "file_extension": ".py",
   "mimetype": "text/x-python",
   "name": "python",
   "nbconvert_exporter": "python",
   "pygments_lexer": "ipython3",
   "version": "3.11.9"
  }
 },
 "nbformat": 4,
 "nbformat_minor": 5
}

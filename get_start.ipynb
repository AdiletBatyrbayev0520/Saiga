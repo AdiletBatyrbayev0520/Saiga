{
 "cells": [
  {
   "cell_type": "code",
   "execution_count": null,
   "id": "9628682f",
   "metadata": {},
   "outputs": [],
   "source": [
    "%pip install uv"
   ]
  },
  {
   "cell_type": "code",
   "execution_count": null,
   "id": "3998b312",
   "metadata": {},
   "outputs": [],
   "source": [
    "!uv sync"
   ]
  }
 ],
 "metadata": {
  "language_info": {
   "name": "python"
  }
 },
 "nbformat": 4,
 "nbformat_minor": 5
}
